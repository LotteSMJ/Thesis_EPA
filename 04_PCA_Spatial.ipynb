{
 "cells": [
  {
   "cell_type": "markdown",
   "id": "1aef4f54-f967-4819-9e23-a96a2c70b942",
   "metadata": {},
   "source": [
    "# PCA for spatial analysis\n"
   ]
  },
  {
   "cell_type": "markdown",
   "id": "d61084ad-f3a3-4582-9437-0f6df1e164f9",
   "metadata": {},
   "source": [
    "In this python file the seven steps of PCA for the spatial analysis is set up"
   ]
  },
  {
   "cell_type": "markdown",
   "id": "30b16c90-a71b-449b-ad2f-9b0e67470d20",
   "metadata": {},
   "source": [
    "1. Standardize all input variables to z-score\n",
    "2. Select data for the indicators that shape the social vulnerability based on the correlation matrix\n",
    "3. Perform the PCA with the standardized input values\n",
    "4. Select the number of components to be further used\n",
    "5. Rotate the PCA solution\n",
    "6. Interpretate the resulting components on how they might influence vulnerability. Based on this, signs are assigned to the components. The output of the loadings is the determining factor for assigning the sign. The indicator with the highest loading in the component determines the sign. If this indicator is positively correlated with the social vulnerability, a positive sign will be assigned and vice versa.\n",
    "7. The component scores are combined into a univariate score based on the predetermined weighting scheme\n"
   ]
  },
  {
   "cell_type": "code",
   "execution_count": null,
   "id": "42a66ff9-78f8-405d-a550-1bc9d4c9a2c9",
   "metadata": {},
   "outputs": [],
   "source": [
    "#import the packags\n",
    "import pandas as pd\n",
    "from sklearn.decomposition import PCA\n",
    "import numpy as np\n",
    "import seaborn as sns; sns.set()\n",
    "import matplotlib.pyplot as plt\n",
    "import scipy.stats as stats\n",
    "from factor_analyzer import FactorAnalyzer"
   ]
  },
  {
   "cell_type": "code",
   "execution_count": null,
   "id": "c06ba46e-9dc3-4a24-8b23-bf2bdde7800a",
   "metadata": {},
   "outputs": [],
   "source": [
    "# import the data set\n",
    "df = pd.read_csv('social_vuln_goed.csv', delimiter = ';', decimal = ',')"
   ]
  },
  {
   "cell_type": "markdown",
   "id": "dffdbc37-7406-4748-9c85-3848d6abb2c2",
   "metadata": {
    "jp-MarkdownHeadingCollapsed": true,
    "tags": []
   },
   "source": [
    "## 00. Data preprocessing"
   ]
  },
  {
   "cell_type": "code",
   "execution_count": null,
   "id": "1ed1c252-5f2a-427e-bab0-418e08a3b41b",
   "metadata": {},
   "outputs": [],
   "source": [
    "#drop all collumns that do not contain location name or indicators\n",
    "df = df.drop([ 'bfa_popula', 'OID_1', 'Adm2_1', 'Pop_adm2',\n",
    "       'OID_12', 'District_v', 'District_1', 'DS_pop', 'OID_12_13', 'Adm1_12', 'Count17',\n",
    "       'Count18', 'Count19' ], axis = 1)"
   ]
  },
  {
   "cell_type": "code",
   "execution_count": null,
   "id": "138aef0d-75b1-4c1a-a9ef-29f7d4cf4690",
   "metadata": {},
   "outputs": [],
   "source": [
    "df.nunique()"
   ]
  },
  {
   "cell_type": "code",
   "execution_count": null,
   "id": "9ce63488-f7a3-4baa-ad13-c4b57b11fdd3",
   "metadata": {},
   "outputs": [],
   "source": [
    "#drop all rows that contain only 1 unique value\n",
    "df = df.drop([ 'GII', 'Tuberculos', 'MalariaMor', 'MortRate__', 'HFA', 'Gov_Effect', 'CPI', 'Elektricit',\n",
    "      'PhoneSubs', 'InternetUs', 'LiteractyR', 'HealthExp'], axis = 1)"
   ]
  },
  {
   "cell_type": "code",
   "execution_count": null,
   "id": "e778c26f-b07b-49c0-b22d-52c14576aa79",
   "metadata": {},
   "outputs": [],
   "source": [
    "#change all rows to numeric\n",
    "cols = df.columns.drop('Adm3')\n",
    "df[cols] = df[cols].apply(pd.to_numeric, errors='coerce')"
   ]
  },
  {
   "cell_type": "code",
   "execution_count": null,
   "id": "db06b5f0-b8dd-46eb-9fd7-2dd495f92bc7",
   "metadata": {},
   "outputs": [],
   "source": [
    "#set the index to the communities\n",
    "df = df.set_index('Adm3')"
   ]
  },
  {
   "cell_type": "markdown",
   "id": "e5a2cb6d-76ad-4cc6-8cfb-859a2d994d09",
   "metadata": {},
   "source": [
    "## 01. Standardization of data"
   ]
  },
  {
   "cell_type": "code",
   "execution_count": null,
   "id": "9da90958-34bd-4fb8-a564-2f7697b57f99",
   "metadata": {},
   "outputs": [],
   "source": [
    "# select the columns that need to be standardized\n",
    "cols = list(df.columns)\n",
    "df[cols]"
   ]
  },
  {
   "cell_type": "code",
   "execution_count": null,
   "id": "8be9f43b-f608-4dde-93a1-a3f540bdb1b9",
   "metadata": {},
   "outputs": [],
   "source": [
    "# standardize with z-score\n",
    "df_standardize = df.select_dtypes(include='number').apply(stats.zscore)\n",
    "df_standardize.head()"
   ]
  },
  {
   "cell_type": "markdown",
   "id": "009a53a4-a123-4015-8200-8c0e0d0340fd",
   "metadata": {},
   "source": [
    "## 02. Select the indicators based on the correlation matrix"
   ]
  },
  {
   "cell_type": "code",
   "execution_count": null,
   "id": "26099653-443f-46a6-a943-fcb206233e2a",
   "metadata": {},
   "outputs": [],
   "source": [
    "# create the correlation matrix\n",
    "matrix = df_standardize.corr().round(2)"
   ]
  },
  {
   "cell_type": "code",
   "execution_count": null,
   "id": "8b037637-c4e7-408b-8802-3dc0006c5f19",
   "metadata": {},
   "outputs": [],
   "source": [
    "# plot the figure\n",
    "sns.set(rc = {'figure.figsize':(20, 20)})\n",
    "sns_plot = sns.heatmap(matrix, annot=True, cmap = 'viridis')\n",
    "plt.title('Correlation between the indicator datasets', fontname=\"Times New Roman\", fontweight = 'bold', fontsize = '19')\n",
    "plt.savefig('correlation_indicators.png')\n",
    "plt.show()"
   ]
  },
  {
   "cell_type": "markdown",
   "id": "78ddee0a-740f-48c6-aa32-c559e17f2a7b",
   "metadata": {},
   "source": [
    "Drop the variables on which other variables are based, based on pearson > 0.7"
   ]
  },
  {
   "cell_type": "code",
   "execution_count": null,
   "id": "88fc851e-fb52-4e57-a062-852eb56ccefd",
   "metadata": {},
   "outputs": [],
   "source": [
    "df_standardize = df_standardize.drop(['PiN', 'Global_hum', 'total_ODA', 'ODA_of_GNI', 'GNI', 'Underweigh', 'MDPI', 'Electricit', 'IDPs_perc', 'Sanitation', 'Public_aid'], axis = 1)"
   ]
  },
  {
   "cell_type": "code",
   "execution_count": null,
   "id": "b72cbc79-2b45-4449-b56e-ad5bc2748a79",
   "metadata": {},
   "outputs": [],
   "source": [
    "# rename the columns of the left over indicators\n",
    "df_standardize.columns = ['Children < 5', 'Elderly > 60', 'No. Disabled', 'No. Conflict affected', 'No. Healthsites', 'Travel time [min]', 'Road Density [km/km\\u00b2]',\n",
    "                           'Undernourishment level 3-5 [%]', 'No. Malnutrition', 'Radio access [%]', 'Television access [%]', 'HDI', 'GINI', 'Prevalence HIV [%]', 'Water sources [%]', \n",
    "                          'Improved Sanitation [%]', 'Immunization measles [%]', 'No. Hazard affected',  'No. IDPs', 'No. Conflicts']"
   ]
  },
  {
   "cell_type": "code",
   "execution_count": null,
   "id": "47a3403b-2f15-4897-be64-eb7a9cba5e12",
   "metadata": {},
   "outputs": [],
   "source": [
    "# plot the correlation matrix again \n",
    "\n",
    "matrix = df_standardize.corr().round(2)\n",
    "sns.set(rc = {'figure.figsize':(50, 35)})\n",
    "sns_plot = sns.heatmap(matrix, annot=True, cmap = 'viridis', annot_kws={\"fontsize\":25})\n",
    "plt.yticks(fontsize=30)\n",
    "plt.xticks(fontsize=30)\n",
    "plt.title('Correlation between the selected indicators', fontname=\"Times New Roman\", fontweight = 'bold', fontsize = 40)\n",
    "plt.savefig('correlation_indicators_pearsons.png')\n",
    "\n",
    "plt.show()"
   ]
  },
  {
   "cell_type": "markdown",
   "id": "0b14ec8e-a670-4169-a73f-4ae5ea02fe13",
   "metadata": {},
   "source": [
    "## 03. Perform the PCA"
   ]
  },
  {
   "cell_type": "code",
   "execution_count": null,
   "id": "c5a35db8-456d-4374-85fd-66e08eb16a57",
   "metadata": {},
   "outputs": [],
   "source": [
    "# use factor analyzer to calculate PCA with varimax rotation\n",
    "fa = FactorAnalyzer(n_factors=20, method='principal', rotation=\"varimax\")\n",
    "fa.fit(df_standardize)\n",
    "loadings_all = fa.loadings_.round(2)\n"
   ]
  },
  {
   "cell_type": "code",
   "execution_count": null,
   "id": "8a46bb83-b7a2-43c8-a4a4-f72e9289ec32",
   "metadata": {},
   "outputs": [],
   "source": [
    "# plots original and common factor eigen values\n",
    "fa.get_eigenvalues()"
   ]
  },
  {
   "cell_type": "code",
   "execution_count": null,
   "id": "9b9b7c95-e145-4b41-85c4-3022edb71c53",
   "metadata": {},
   "outputs": [],
   "source": [
    "#get variance\n",
    "# for orignial vairance use fa.get_factor_variance[0]\n",
    "# for proportional variance use fa.get_factor_variance[1]\n",
    "# for cumulative variance use ga.get_factor_variance[2]\n",
    "\n",
    "fa.get_factor_variance()\n"
   ]
  },
  {
   "cell_type": "markdown",
   "id": "6e4d360a-6b94-4fda-a075-cc2726069c61",
   "metadata": {},
   "source": [
    "## 04. Select the number of components that is used for the analysis"
   ]
  },
  {
   "cell_type": "markdown",
   "id": "389ed6d8-6ad8-4685-bed5-021fc758c049",
   "metadata": {},
   "source": [
    "Sort the data frame based on the amount of variance explained by each component"
   ]
  },
  {
   "cell_type": "code",
   "execution_count": null,
   "id": "9f662c28-b0c7-4f47-9f05-d76cf750f9c9",
   "metadata": {},
   "outputs": [],
   "source": [
    "#create a dataframe based on the loading, and name the column headers accordingly\n",
    "df = pd.DataFrame(loadings_all, columns = ['PC1','PC2','PC3', 'PC4', 'PC5', 'PC6', 'PC7','PC8','PC9', 'PC10', 'PC11', 'PC12', \n",
    "                                           'PC13','PC14','PC15', 'PC16', 'PC17', 'PC18', 'PC19', 'PC20'])\n",
    "\n",
    "#create list of variable names\n",
    "indicator_names = df_standardize.columns.values.tolist()\n",
    "\n",
    "#set list with indicator names as index PC df of eigen vectors\n",
    "df['variables'] = indicator_names\n",
    "df = df.set_index('variables')\n",
    "\n",
    "#round the number on two decimals\n",
    "df = df.round(2)"
   ]
  },
  {
   "cell_type": "code",
   "execution_count": null,
   "id": "1456dec2-ec28-4edd-bf33-cef729d3c851",
   "metadata": {},
   "outputs": [],
   "source": [
    "# append the dataframe with the explained variance of each principal component\n",
    "variance = fa.get_factor_variance()[1]\n",
    "\n",
    "df.loc[len(df.index)] = variance\n",
    "\n",
    "# sort the data frame based on the explained variance \n",
    "df_sorted = df.sort_values(by =20, axis=1,ascending=False)\n"
   ]
  },
  {
   "cell_type": "code",
   "execution_count": null,
   "id": "2316487b-a7bf-441b-b5eb-3c18394b931c",
   "metadata": {},
   "outputs": [],
   "source": [
    "# add a row with the cumulative variance to the data frame\n",
    "cumulative_variance = []\n",
    "cum_variance = 0\n",
    "\n",
    "for i in df_sorted.columns:\n",
    "    cum_variance += df_sorted[i][20]\n",
    "    cumulative_variance.append(cum_variance)"
   ]
  },
  {
   "cell_type": "code",
   "execution_count": null,
   "id": "1f09c9d3-6247-4260-9716-55b1ff0c80a6",
   "metadata": {},
   "outputs": [],
   "source": [
    "# sort the variance lists\n",
    "sorted_cumulative = df_sorted.loc[21]\n",
    "sorted_variance = df_sorted.loc[20]"
   ]
  },
  {
   "cell_type": "code",
   "execution_count": null,
   "id": "f1eb16f5-8ff1-4de8-bca7-4d1afb25cfa5",
   "metadata": {},
   "outputs": [],
   "source": [
    "plt.plot(sorted_cumulative, linewidth = 10)\n",
    "plt.xlabel('Number of components', fontsize = 35, fontname=\"Times New Roman\")\n",
    "plt.ylabel('Cumulative explained variance',  fontsize = 35, fontname=\"Times New Roman\")\n",
    "plt.title('Cumulative explained variance, \\n 15 PC are needed to explain 90% variance',  fontsize = 45, fontname=\"Times New Roman\", fontweight = 'bold')\n",
    "plt.yticks(fontsize=35)\n",
    "plt.xticks(fontsize=35)\n",
    "plt.axvline(x=14.2, color = 'grey', linestyle = '--', linewidth = 10)\n",
    "plt.axhline(y=0.9, color='grey', linestyle='--', linewidth = 10)\n",
    "plt.plot(14.2,.9, marker=\"o\", color=\"red\", markersize=20)\n",
    "plt.savefig('90%varimax_2020_all_indi.png')\n",
    "plt.show()"
   ]
  },
  {
   "cell_type": "code",
   "execution_count": null,
   "id": "8816f35a-07db-4eb7-ba5a-fb8ac36bd509",
   "metadata": {},
   "outputs": [],
   "source": [
    "PC_values =  list(range(1, 21))\n",
    "plt.plot(PC_values,sorted_variance, 'ro-', linewidth=2)\n",
    "plt.title('Scree Plot', fontsize = 45, fontname=\"Times New Roman\", fontweight = 'bold' )\n",
    "plt.xlabel('Principal Component', fontsize = 35, fontname=\"Times New Roman\", fontweight = 'bold')\n",
    "plt.ylabel('Proportion of Variance Explained', fontsize = 35, fontname=\"Times New Roman\", fontweight = 'bold')\n",
    "plt.yticks(fontsize=35)\n",
    "plt.xticks(fontsize=35)\n",
    "plt.savefig('Screeplot_2020_all_indi.png')\n",
    "plt.show()"
   ]
  },
  {
   "cell_type": "markdown",
   "id": "8ce10f8f-bcdb-461d-92ad-9aea697c542e",
   "metadata": {},
   "source": [
    "## 05. Rotate the PCA with the right number of components"
   ]
  },
  {
   "cell_type": "code",
   "execution_count": null,
   "id": "1d0e9640-d590-46c9-9c87-035d39aa3036",
   "metadata": {},
   "outputs": [],
   "source": [
    "#use factor analyzer to calculate PCA with varimax rotation, from the loading matrix, select the number of components that is needed\n",
    "loading_matrix = df_sorted[['PC5', 'PC1', 'PC12', 'PC16', 'PC2', 'PC6', 'PC4', 'PC15', 'PC7',\n",
    "       'PC11', 'PC17', 'PC9', 'PC8', 'PC10', 'PC3']]\n",
    "loading_matrix"
   ]
  },
  {
   "cell_type": "markdown",
   "id": "1442b32c-8346-47e0-845a-cb35d6969ec4",
   "metadata": {},
   "source": [
    "Obtain the scores"
   ]
  },
  {
   "cell_type": "code",
   "execution_count": null,
   "id": "e1b39ee4-c023-4b68-b6b6-5e32520af34f",
   "metadata": {},
   "outputs": [],
   "source": [
    "loading_matrix_scores = loading_matrix.drop([21, 20], axis = 0)\n",
    "loading_matrix_scores"
   ]
  },
  {
   "cell_type": "code",
   "execution_count": null,
   "id": "f1605a77-f7ac-4274-ab79-1c4fc554abeb",
   "metadata": {},
   "outputs": [],
   "source": [
    "scores = df_standardize.dot(loading_matrix_scores)\n",
    "scores = scores.round(2)\n"
   ]
  },
  {
   "cell_type": "markdown",
   "id": "8908257a-ec25-42a5-bde5-ba96fc52a78c",
   "metadata": {},
   "source": [
    "## 06. Interpretate the resulting components on how they might influence vulnerability. \n",
    "Based on this, signs are assigned to the components. The output of the loadings is the determining factor for assigning the sign. The indicator with the highest loading in the component determines the sign. If this indicator is positively correlated with the social vulnerability, a positive sign will be assigned and vice versa"
   ]
  },
  {
   "cell_type": "code",
   "execution_count": null,
   "id": "fa48a557-fb6d-430c-973a-321ec0ca11dc",
   "metadata": {},
   "outputs": [],
   "source": [
    "def highlight(x):\n",
    "    colors = 'background-color: lightgreen;'\n",
    "    default = ''\n",
    "    if type(x) in [float, int]:\n",
    "\n",
    "        if x < -0.7:\n",
    "            return colors\n",
    "        elif x > 0.7:\n",
    "            return colors\n",
    "        else:\n",
    "            return default\n",
    "        \n",
    "loading_matrix_scores.style.applymap(highlight)"
   ]
  },
  {
   "cell_type": "code",
   "execution_count": null,
   "id": "b4e8526a-c9b8-4b48-8cf8-6d0938ad78f1",
   "metadata": {},
   "outputs": [],
   "source": [
    "#set scores table to impact on vulnerbaility\n",
    "scores['PC5'] = np.abs(scores['PC5'])\n",
    "scores['PC1'] = np.abs(scores['PC1'])\n",
    "scores['PC12'] = np.abs(scores['PC12'])*-1\n",
    "scores['PC16'] = np.abs(scores['PC16'])*-1\n",
    "scores['PC2'] = np.abs(scores['PC2'])*-1\n",
    "scores['PC6'] = np.abs(scores['PC6'])\n",
    "scores['PC4'] = np.abs(scores['PC4'])*-1\n",
    "scores['PC15'] = np.abs(scores['PC15'])\n",
    "scores['PC7'] = np.abs(scores['PC7'])*-1\n",
    "scores['PC11'] = np.abs(scores['PC11'])\n",
    "scores['PC17'] = np.abs(scores['PC17'])*-1\n",
    "scores['PC9'] = np.abs(scores['PC9'])*-1\n",
    "scores['PC8'] = np.abs(scores['PC8'])\n",
    "scores['PC10'] = np.abs(scores['PC10'])*-1\n",
    "scores['PC3'] = np.abs(scores['PC3'])"
   ]
  },
  {
   "cell_type": "markdown",
   "id": "a977652a-4a2f-45a7-976c-ea98e2c7f4e2",
   "metadata": {},
   "source": [
    "## 07. Calculate the scores for social vulnerability"
   ]
  },
  {
   "cell_type": "code",
   "execution_count": null,
   "id": "2c5fad97-acad-4395-b496-60aef892cd0d",
   "metadata": {},
   "outputs": [],
   "source": [
    "scores['vulnerability'] = scores.sum(axis = 1)\n"
   ]
  },
  {
   "cell_type": "code",
   "execution_count": null,
   "id": "93f57da0-8b97-4dc8-a044-6ec8670fbe61",
   "metadata": {},
   "outputs": [],
   "source": [
    "scores.to_csv('vulnerability_cutter_2020_all_indi_varimax_try2_final.csv', decimal = ',') "
   ]
  },
  {
   "cell_type": "markdown",
   "id": "1eb30e52-30b8-4ce6-b01a-3cf48eaac41e",
   "metadata": {},
   "source": [
    "## 08. Interpretation of results"
   ]
  },
  {
   "cell_type": "code",
   "execution_count": null,
   "id": "13dedf89-4a23-46be-858a-26f3bf20f5bd",
   "metadata": {},
   "outputs": [],
   "source": [
    "# renamce the PC with the character they describe\n",
    "plot = plot.rename(columns={'PC5': 'PC5 - IDPs', 'PC1': 'PC1 - Hazard','PC2': 'PC2 - HDI', 'PC12': 'PC12 - Travel time', 'PC16': 'PC16 - Television access', 'PC4': 'PC4 - Sanitation',\n",
    "                            'PC15': 'PC15 - Conflict', 'PC7': 'PC7 - Road density ', 'PC11': \"PC11 - Malnutrition\", 'PC17' : 'PC17 - Water sources', 'PC9' : 'PC9 - Measle immuni', \n",
    "                            'PC8': 'PC8 - Children < 5', 'PC10': 'PC10 - Healthsites', 'PC6': 'PC6 - HIV', 'PC3': 'PC3 - Elderly'})"
   ]
  },
  {
   "cell_type": "code",
   "execution_count": null,
   "id": "b9a82af4-50c6-4f69-aaec-52f6c42d6c92",
   "metadata": {},
   "outputs": [],
   "source": [
    "plot.plot.barh(stacked=True, cmap = 'RdYlGn', figsize = (20,15))\n",
    "plt.xlabel('Contribution to vulnerability score', fontsize = 35, fontname=\"Times New Roman\")\n",
    "plt.ylabel('Community',  fontsize = 35, fontname=\"Times New Roman\")\n",
    "plt.title('Composition of vulnerability score \\n of ten most vulnerable communes',  fontsize =45, fontname=\"Times New Roman\", fontweight = 'bold')\n",
    "plt.yticks(fontsize=55)\n",
    "plt.xticks(fontsize=55)\n",
    "plt.legend(loc='best', prop={'size': 15})\n",
    "plt.savefig('vulnerability_composition.png')\n",
    "plt.show();"
   ]
  },
  {
   "cell_type": "markdown",
   "id": "cb1bf7c8-7b9a-407f-b668-89c39df4b307",
   "metadata": {},
   "source": [
    "## 09. KMO"
   ]
  },
  {
   "cell_type": "code",
   "execution_count": null,
   "id": "1c54b039-5926-4655-97f5-6b20978f4c31",
   "metadata": {},
   "outputs": [],
   "source": [
    "from factor_analyzer.factor_analyzer import calculate_kmo\n",
    "kmo_all,kmo_model=calculate_kmo(df_standardize)\n",
    "kmo_model"
   ]
  },
  {
   "cell_type": "markdown",
   "id": "6081214d-d016-475d-85c0-7bc763120727",
   "metadata": {},
   "source": [
    "## 10. Barlett"
   ]
  },
  {
   "cell_type": "code",
   "execution_count": null,
   "id": "6aa33b57-ae16-487d-89ce-c8da7a8e5804",
   "metadata": {},
   "outputs": [],
   "source": []
  }
 ],
 "metadata": {
  "kernelspec": {
   "display_name": "Python 3 (ipykernel)",
   "language": "python",
   "name": "python3"
  },
  "language_info": {
   "codemirror_mode": {
    "name": "ipython",
    "version": 3
   },
   "file_extension": ".py",
   "mimetype": "text/x-python",
   "name": "python",
   "nbconvert_exporter": "python",
   "pygments_lexer": "ipython3",
   "version": "3.9.7"
  }
 },
 "nbformat": 4,
 "nbformat_minor": 5
}
