{
 "cells": [
  {
   "cell_type": "markdown",
   "id": "7d2a500c-2773-44f3-bc0f-f37271953264",
   "metadata": {},
   "source": [
    "# Sensitivity of PCA for methodological decisions"
   ]
  },
  {
   "cell_type": "code",
   "execution_count": 1,
   "id": "995f297a-4c08-41a0-84bf-01d962ace427",
   "metadata": {},
   "outputs": [],
   "source": [
    "#import the packags\n",
    "import pandas as pd\n",
    "from sklearn.decomposition import PCA\n",
    "import numpy as np\n",
    "import seaborn as sns; sns.set()\n",
    "import matplotlib.pyplot as plt\n",
    "import scipy.stats as stats\n",
    "from scipy.stats import zscore\n",
    "import statsmodels.api as sm\n",
    "from statsmodels.formula.api import ols"
   ]
  },
  {
   "cell_type": "code",
   "execution_count": null,
   "id": "f8d0c302-06cf-424f-97ec-d8c561cb504f",
   "metadata": {},
   "outputs": [],
   "source": [
    "# import the data set of standardized indicators\n",
    "df_original = pd.read_csv('df_standardize_statistically_selected.csv').set_index('Adm3')"
   ]
  },
  {
   "cell_type": "markdown",
   "id": "ccfa172f-b1c7-405d-847f-b1c8367b8ab0",
   "metadata": {
    "jp-MarkdownHeadingCollapsed": true,
    "tags": []
   },
   "source": [
    "## 01. Determine the social vulnerability scores with all methodological combinations\n",
    "Use the basic method as presented in 04_PCA_spatial.\n",
    "\n",
    "However in the specified methodologial decisions, use the set ups as presented below.\n",
    "\n",
    "1. select the rotation method "
   ]
  },
  {
   "cell_type": "markdown",
   "id": "53f1372c-67c5-4fdd-be5b-16815d711bf3",
   "metadata": {},
   "source": [
    "#### Rotation - Varimax"
   ]
  },
  {
   "cell_type": "code",
   "execution_count": null,
   "id": "7af2e62c-4dfb-430d-9db7-db5b15cd287c",
   "metadata": {},
   "outputs": [],
   "source": [
    "#use factor analyzer to calculate PCA with varimax rotation or 'unrotated roation'\n",
    "\n",
    "fa = FactorAnalyzer(n_factors=20, method='principal', rotation='varimax')\n",
    "fa.fit(df_original)\n",
    "loadings_all = fa.loadings_.round(2)\n"
   ]
  },
  {
   "cell_type": "markdown",
   "id": "4d95f72f-73fc-40c3-8e49-b1ffcb626752",
   "metadata": {},
   "source": [
    "#### Rotation - Unrotated"
   ]
  },
  {
   "cell_type": "code",
   "execution_count": null,
   "id": "49d8b118-1a03-4ecb-acdb-a2160dafb15b",
   "metadata": {},
   "outputs": [],
   "source": [
    "#use factor analyzer to calculate PCA with varimax rotation or 'unrotated roation'\n",
    "\n",
    "fa = FactorAnalyzer(n_factors=20, method='principal', rotation=None)\n",
    "fa.fit(df_original)\n",
    "loadings_all = fa.loadings_.round(2)\n"
   ]
  },
  {
   "cell_type": "markdown",
   "id": "5deb0471-c76f-4aac-82ec-b3332978f9a9",
   "metadata": {},
   "source": [
    "2. is based on explained variance, sort the data set, if kaiser criterion select the eigen values greater then 1 "
   ]
  },
  {
   "cell_type": "markdown",
   "id": "1714d514-9b40-4ae6-a868-786f7ff9c572",
   "metadata": {},
   "source": [
    "#### No. Components - Explained variance"
   ]
  },
  {
   "cell_type": "code",
   "execution_count": null,
   "id": "1456dec2-ec28-4edd-bf33-cef729d3c851",
   "metadata": {},
   "outputs": [],
   "source": [
    "# append the dataframe with the explained variance of each principal component\n",
    "variance = fa.get_factor_variance()[1]\n",
    "\n",
    "df.loc[len(df.index)] = variance\n",
    "\n",
    "# sort the data frame based on the explained variance \n",
    "df_sorted = df.sort_values(by =20, axis=1,ascending=False)\n"
   ]
  },
  {
   "cell_type": "code",
   "execution_count": null,
   "id": "2316487b-a7bf-441b-b5eb-3c18394b931c",
   "metadata": {},
   "outputs": [],
   "source": [
    "# add a row with the cumulative variance to the data frame\n",
    "cumulative_variance = []\n",
    "cum_variance = 0\n",
    "\n",
    "for i in df_sorted.columns:\n",
    "    cum_variance += df_sorted[i][20]\n",
    "    cumulative_variance.append(cum_variance)"
   ]
  },
  {
   "cell_type": "markdown",
   "id": "a8613fca-eb34-4d3a-b922-837c2679593a",
   "metadata": {},
   "source": [
    "#### No. Components - Kaiser Criterion"
   ]
  },
  {
   "cell_type": "code",
   "execution_count": null,
   "id": "d1625af3-9e89-4954-940a-3099f1512bba",
   "metadata": {},
   "outputs": [],
   "source": [
    "#plots original and common factor eigen values\n",
    "fa.get_eigenvalues()"
   ]
  },
  {
   "cell_type": "markdown",
   "id": "d81dd811-5097-4b10-b96c-ea21d8018322",
   "metadata": {},
   "source": [
    "3. If mathematical: only use the first PC, if weighted weigh for counting"
   ]
  },
  {
   "cell_type": "markdown",
   "id": "5ac54a95-40fc-429a-ade0-6e053e185eae",
   "metadata": {},
   "source": [
    "#### Weighted sum based on variance"
   ]
  },
  {
   "cell_type": "code",
   "execution_count": null,
   "id": "75e00863-e9cb-4949-bb82-2499846013b8",
   "metadata": {},
   "outputs": [],
   "source": [
    "# weighted sum based on variance\n",
    "list_weights = []\n",
    "for i in range(len(df_sorted)-2):\n",
    "    variance = df_sorted.iloc[20, i]\n",
    "    weight = variance / 1\n",
    "    list_weights.append(weight)\n",
    "    \n",
    "list_weights\n",
    "\n",
    "scores = scores*list_weights[:6]\n",
    "scores['vulnerability'] = scores.sum(axis=1)"
   ]
  },
  {
   "cell_type": "markdown",
   "id": "e3d51d7d-042f-4722-bb1c-c68d9c4218a2",
   "metadata": {},
   "source": [
    "#### Mathimatical\n"
   ]
  },
  {
   "cell_type": "code",
   "execution_count": null,
   "id": "a75d2281-8e90-457b-8c65-1ad53b996a5b",
   "metadata": {},
   "outputs": [],
   "source": [
    "scores['vulnerability'] = scores['PC1']"
   ]
  },
  {
   "cell_type": "markdown",
   "id": "b4b58614-17e5-4261-af24-70214c68c6c8",
   "metadata": {},
   "source": [
    "#### Sum"
   ]
  },
  {
   "cell_type": "code",
   "execution_count": null,
   "id": "77c45712-0a0f-4283-a9d6-fb5d044fab50",
   "metadata": {},
   "outputs": [],
   "source": [
    "scores['vulnerability'] = scores.sum(axis=1)"
   ]
  },
  {
   "cell_type": "markdown",
   "id": "924a86cd-2cea-4687-8506-c25041f2cdbd",
   "metadata": {
    "jp-MarkdownHeadingCollapsed": true,
    "tags": []
   },
   "source": [
    "## 02. Create a csv for all combinations"
   ]
  },
  {
   "cell_type": "code",
   "execution_count": null,
   "id": "a32c9e5d-4482-4951-9699-1e84e29fc927",
   "metadata": {},
   "outputs": [],
   "source": [
    "df_1 = pd.read_csv('vulnerability_combination1.csv', decimal = ',')\n",
    "df_2 = pd.read_csv('vulnerability_combination2.csv', decimal = ',')\n",
    "df_3 = pd.read_csv('vulnerability_combination3.csv', decimal = ',')\n",
    "df_4 = pd.read_csv('vulnerability_combination4.csv', decimal = ',')\n",
    "df_5 = pd.read_csv('vulnerability_combination5.csv', decimal = ',')\n",
    "df_6 = pd.read_csv('vulnerability_combination6.csv', decimal = ',')\n",
    "df_7 = pd.read_csv('vulnerability_combination7.csv', decimal = ',')\n",
    "df_8 = pd.read_csv('vulnerability_combination8.csv', decimal = ',')\n",
    "df_9 = pd.read_csv('vulnerability_combination9.csv', decimal = ',')\n",
    "df_10 = pd.read_csv('vulnerability_combination10.csv', decimal = ',')\n",
    "df_11 = pd.read_csv('vulnerability_combination11.csv', decimal = ',')\n",
    "df_12 = pd.read_csv('vulnerability_combination12.csv', decimal = ',')"
   ]
  },
  {
   "cell_type": "markdown",
   "id": "822ccc6e-8382-401e-b163-ecd769b508b6",
   "metadata": {
    "jp-MarkdownHeadingCollapsed": true,
    "tags": []
   },
   "source": [
    "## 03. Normalize all vulnerability scores"
   ]
  },
  {
   "cell_type": "code",
   "execution_count": 5,
   "id": "46e95dfa-3888-4f29-8ac1-773287b45729",
   "metadata": {},
   "outputs": [],
   "source": [
    "cols = ['vulnerability']\n",
    "df_1[cols] = df_1[cols].apply(pd.to_numeric, errors='coerce')\n",
    "# Calculate the zscores and drop zscores into new column\n",
    "df_1['vulnerability_z_score'] = zscore(df_1['vulnerability'])\n"
   ]
  },
  {
   "cell_type": "code",
   "execution_count": 7,
   "id": "982eeed1-ceba-4165-bc44-e14ba1c953cc",
   "metadata": {},
   "outputs": [],
   "source": [
    "df_2[cols] = df_2[cols].apply(pd.to_numeric, errors='coerce')\n",
    "# Calculate the zscores and drop zscores into new column\n",
    "df_2['vulnerability_z_score'] = zscore(df_2['vulnerability'])"
   ]
  },
  {
   "cell_type": "code",
   "execution_count": 8,
   "id": "9b78b3ce-fe77-492a-91c1-eb007aeb5cf1",
   "metadata": {},
   "outputs": [],
   "source": [
    "df_3[cols] = df_3[cols].apply(pd.to_numeric, errors='coerce')\n",
    "# Calculate the zscores and drop zscores into new column\n",
    "df_3['vulnerability_z_score'] = zscore(df_3['vulnerability'])"
   ]
  },
  {
   "cell_type": "code",
   "execution_count": 9,
   "id": "763ea67b-7d43-4cb2-a72d-fa9cf6920ebb",
   "metadata": {},
   "outputs": [],
   "source": [
    "df_4[cols] = df_4[cols].apply(pd.to_numeric, errors='coerce')\n",
    "# Calculate the zscores and drop zscores into new column\n",
    "df_4['vulnerability_z_score'] = zscore(df_4['vulnerability'])"
   ]
  },
  {
   "cell_type": "code",
   "execution_count": 10,
   "id": "8bfd8791-62db-4cb8-8d85-f98aa526ffba",
   "metadata": {},
   "outputs": [],
   "source": [
    "df_5[cols] = df_5[cols].apply(pd.to_numeric, errors='coerce')\n",
    "# Calculate the zscores and drop zscores into new column\n",
    "df_5['vulnerability_z_score'] = zscore(df_5['vulnerability'])"
   ]
  },
  {
   "cell_type": "code",
   "execution_count": 11,
   "id": "c4244fa7-6eda-4c86-b9cc-146bc3810338",
   "metadata": {},
   "outputs": [],
   "source": [
    "df_6[cols] = df_6[cols].apply(pd.to_numeric, errors='coerce')\n",
    "# Calculate the zscores and drop zscores into new column\n",
    "df_6['vulnerability_z_score'] = zscore(df_6['vulnerability'])"
   ]
  },
  {
   "cell_type": "code",
   "execution_count": 12,
   "id": "0dbb9545-586c-4e6b-aab7-6bcf3b8de228",
   "metadata": {},
   "outputs": [],
   "source": [
    "df_7[cols] = df_7[cols].apply(pd.to_numeric, errors='coerce')\n",
    "# Calculate the zscores and drop zscores into new column\n",
    "df_7['vulnerability_z_score'] = zscore(df_7['vulnerability'])"
   ]
  },
  {
   "cell_type": "code",
   "execution_count": 13,
   "id": "8c96805c-dead-41ca-b26b-16a1be6a38b5",
   "metadata": {},
   "outputs": [],
   "source": [
    "df_8[cols] = df_8[cols].apply(pd.to_numeric, errors='coerce')\n",
    "# Calculate the zscores and drop zscores into new column\n",
    "df_8['vulnerability_z_score'] = zscore(df_8['vulnerability'])"
   ]
  },
  {
   "cell_type": "code",
   "execution_count": 14,
   "id": "d48902bd-5b80-4ed4-83ec-957fad96a132",
   "metadata": {},
   "outputs": [],
   "source": [
    "df_9[cols] = df_9[cols].apply(pd.to_numeric, errors='coerce')\n",
    "# Calculate the zscores and drop zscores into new column\n",
    "df_9['vulnerability_z_score'] = zscore(df_9['vulnerability'])"
   ]
  },
  {
   "cell_type": "code",
   "execution_count": 15,
   "id": "767f185a-2895-47c9-ba94-8da46758f4b9",
   "metadata": {},
   "outputs": [],
   "source": [
    "df_10[cols] = df_10[cols].apply(pd.to_numeric, errors='coerce')\n",
    "# Calculate the zscores and drop zscores into new column\n",
    "df_10['vulnerability_z_score'] = zscore(df_10['vulnerability'])"
   ]
  },
  {
   "cell_type": "code",
   "execution_count": 16,
   "id": "b8bcaa24-eda6-4716-a73c-2433d73011be",
   "metadata": {},
   "outputs": [],
   "source": [
    "df_11[cols] = df_11[cols].apply(pd.to_numeric, errors='coerce')\n",
    "# Calculate the zscores and drop zscores into new column\n",
    "df_11['vulnerability_z_score'] = zscore(df_11['vulnerability'])"
   ]
  },
  {
   "cell_type": "code",
   "execution_count": 17,
   "id": "4748e0bf-78cd-4bf5-9542-8a01a3b253e2",
   "metadata": {},
   "outputs": [],
   "source": [
    "df_12[cols] = df_12[cols].apply(pd.to_numeric, errors='coerce')\n",
    "# Calculate the zscores and drop zscores into new column\n",
    "df_12['vulnerability_z_score'] = zscore(df_12['vulnerability'])"
   ]
  },
  {
   "cell_type": "markdown",
   "id": "0411c155-c20f-4979-9f6d-7ee1021792e2",
   "metadata": {
    "jp-MarkdownHeadingCollapsed": true,
    "tags": []
   },
   "source": [
    "## 04. Merge all results in one data frame"
   ]
  },
  {
   "cell_type": "code",
   "execution_count": null,
   "id": "2545ad18-8308-4e5c-954b-0effaf3b7d55",
   "metadata": {},
   "outputs": [],
   "source": [
    "frames = [df_1, df_2, df_3, df_4, df_5, df_6, df_7, df_8, df_9, df_10, df_11, df_12]\n",
    "\n",
    "result = pd.concat(frames)"
   ]
  },
  {
   "cell_type": "markdown",
   "id": "c2644c55-d2d8-4b47-94a1-bcdbccccfba5",
   "metadata": {
    "jp-MarkdownHeadingCollapsed": true,
    "tags": []
   },
   "source": [
    "## 05. Verify the distributiom of all the scores "
   ]
  },
  {
   "cell_type": "code",
   "execution_count": null,
   "id": "2b9eb1e9-1bb2-4562-93e1-89af164506b2",
   "metadata": {},
   "outputs": [],
   "source": [
    "result['vulnerability_z_score'].hist()"
   ]
  },
  {
   "cell_type": "markdown",
   "id": "dcf49d57-dceb-4dc4-b540-b9c23e7aee9a",
   "metadata": {
    "jp-MarkdownHeadingCollapsed": true,
    "tags": []
   },
   "source": [
    "## 06. Remove the outliers"
   ]
  },
  {
   "cell_type": "code",
   "execution_count": null,
   "id": "1dbf91bd-9c17-49fa-9813-93a15d1f08c0",
   "metadata": {},
   "outputs": [],
   "source": [
    "result_outliers = result.loc[np.abs(result['vulnerability_z_score']) <= 1.5]\n",
    "result_outliers.to_csv('dataframe_for_spss_without_outliers.csv', decimal = ',', sep = ';')"
   ]
  },
  {
   "cell_type": "markdown",
   "id": "b2d94fd3-5481-484d-95ba-c1ad38595552",
   "metadata": {
    "jp-MarkdownHeadingCollapsed": true,
    "tags": []
   },
   "source": [
    "## 07. Set up the data frame for three way ANOVA"
   ]
  },
  {
   "cell_type": "code",
   "execution_count": null,
   "id": "54de4cc8-7441-4225-b71c-db65a9660c99",
   "metadata": {},
   "outputs": [],
   "source": [
    "df_1['Combi2'] = list(df_2['vulnerability_z_score'])\n",
    "df_1['Combi3'] = list(df_3['vulnerability_z_score'])\n",
    "df_1['Combi4'] = list(df_4['vulnerability_z_score'])\n",
    "df_1['Combi5'] = list(df_5['vulnerability_z_score'])\n",
    "df_1['Combi6'] = list(df_6['vulnerability_z_score'])\n",
    "df_1['Combi7'] = list(df_7['vulnerability_z_score'])\n",
    "df_1['Combi8'] = list(df_8['vulnerability_z_score'])\n",
    "df_1['Combi9'] = list(df_9['vulnerability_z_score'])\n",
    "df_1['Combi10'] = list(df_10['vulnerability_z_score'])\n",
    "df_1['Combi11'] = list(df_11['vulnerability_z_score'])\n",
    "df_1['Combi12'] = list(df_12['vulnerability_z_score'])"
   ]
  },
  {
   "cell_type": "code",
   "execution_count": null,
   "id": "74a2b0c9-3f5f-46f5-96e3-c762e4901411",
   "metadata": {},
   "outputs": [],
   "source": [
    "df_1 = df_1.drop(['vulnerability', 'no_components', 'weighted', 'rotation'], axis = 1).set_index('Adm3')"
   ]
  },
  {
   "cell_type": "code",
   "execution_count": null,
   "id": "ff34d0c3-5515-44a7-920b-b682070cf9d1",
   "metadata": {},
   "outputs": [],
   "source": [
    "df = df_1.rename(columns={'vulnerability_z_score': 'Combi1'})"
   ]
  },
  {
   "cell_type": "code",
   "execution_count": null,
   "id": "a1ff7523-4dd9-4752-aad5-9c2927a59713",
   "metadata": {},
   "outputs": [],
   "source": [
    "df = df[(np.abs((df)) < 1.5).all(axis=1)]"
   ]
  },
  {
   "cell_type": "code",
   "execution_count": null,
   "id": "66ca32ca-29cf-4a4f-aa37-56552b172414",
   "metadata": {},
   "outputs": [],
   "source": [
    "# reshape the d dataframe suitable for statsmodels package \n",
    "df_melt = pd.melt(df.reset_index(), id_vars=['Adm3'], value_vars=['Combi1', 'Combi2', 'Combi3', 'Combi4', 'Combi5',\n",
    "       'Combi6', 'Combi7', 'Combi8', 'Combi9', 'Combi10', 'Combi11',\n",
    "       'Combi12'])\n",
    "# replace column names\n",
    "df_melt.columns = ['index', 'methods', 'value']"
   ]
  },
  {
   "cell_type": "code",
   "execution_count": null,
   "id": "ad00f7aa-026d-474a-822f-92553e5e9ae3",
   "metadata": {},
   "outputs": [],
   "source": [
    "import matplotlib.pyplot as plt\n",
    "import seaborn as sns\n",
    "\n",
    "sns.set(rc={'figure.figsize':(40,40)})\n",
    "\n",
    "\n",
    "ax = sns.boxplot(x='methods', y='value', data=df_melt, color='#99c2a2')\n",
    "ax = sns.swarmplot(x=\"methods\", y=\"value\", data=df_melt, color='#7d0013')\n",
    "plt.title('Distribution of social vulnerability for each combination of methods', fontsize = 25, fontname=\"Times New Roman\", fontweight = 'bold')\n",
    "plt.yticks(fontsize=25, fontname=\"Times New Roman\")\n",
    "plt.xticks(fontsize=25, fontname=\"Times New Roman\")\n",
    "plt.ylabel('Normalized value of social vulnerability', fontsize = 25, fontname='Times New Roman')\n",
    "plt.xlabel('Combination of methods', fontsize = 25, fontname='Times New Roman')\n",
    "plt.savefig('Distribution_social_vuln.png')\n",
    "plt.show();"
   ]
  },
  {
   "cell_type": "code",
   "execution_count": null,
   "id": "33619425-2519-4ab6-93ac-85bd23e30b06",
   "metadata": {},
   "outputs": [],
   "source": [
    "# import the data\n",
    "data = pd.read_csv('dataframe_for_spss_without_outliers.csv', delimiter = ';', decimal = ',').set_index('Adm3')\n",
    "data = data.drop(['Unnamed: 0'],axis =1)"
   ]
  },
  {
   "cell_type": "code",
   "execution_count": null,
   "id": "7ea9c59d-7c82-4f66-a0b9-22d6200930ac",
   "metadata": {},
   "outputs": [],
   "source": [
    "cols = ['vulnerability_z_score']\n",
    "data[cols] = data[cols].apply(pd.to_numeric, errors='coerce')"
   ]
  },
  {
   "cell_type": "code",
   "execution_count": null,
   "id": "7e06d9a1-9e24-4fae-9614-7bd1b42787a1",
   "metadata": {},
   "outputs": [],
   "source": [
    "#execute anova\n",
    "model = ols(\"vulnerability_z_score ~ C(no_components, Sum) + C(weighted, Sum) + C(rotation, Sum) + C(no_components, Sum)*C(weighted, Sum)*C(rotation, Sum)\", \n",
    "            data=data).fit()\n",
    "\n",
    "aov_table = sm.stats.anova_lm(model, typ=3)\n",
    "aov_table"
   ]
  },
  {
   "cell_type": "markdown",
   "id": "843b5d8b-57ce-403f-a9dd-7247e855ee55",
   "metadata": {
    "jp-MarkdownHeadingCollapsed": true,
    "tags": []
   },
   "source": [
    "## 08. Interpretate results"
   ]
  },
  {
   "cell_type": "code",
   "execution_count": null,
   "id": "be17ea2c-e112-4bd3-be0b-c34a79262c3b",
   "metadata": {},
   "outputs": [],
   "source": [
    "vari_kaiser_math = df_2['vulnerability_z_score'].mean()\n",
    "unrota_kaiser_math = df_4['vulnerability_z_score'].mean()\n",
    "vari_kaiser_sum =df_6['vulnerability_z_score'].mean()\n",
    "unrota_kaiser_sum = df_7['vulnerability_z_score'].mean()\n",
    "vari_kaiser_sumvariance = df_9['vulnerability_z_score'].mean()\n",
    "unrota_kaiser_sum_variance = df_11['vulnerability_z_score'].mean()"
   ]
  },
  {
   "cell_type": "code",
   "execution_count": null,
   "id": "d4677f94-ddb4-4dd7-b05e-98958d82fbe8",
   "metadata": {},
   "outputs": [],
   "source": [
    "vari_kaiser = [vari_kaiser_math, vari_kaiser_sum, vari_kaiser_sumvariance]\n",
    "unrotated_kaiser = [unrota_kaiser_math, unrota_kaiser_sum, unrota_kaiser_sum_variance]"
   ]
  },
  {
   "cell_type": "code",
   "execution_count": null,
   "id": "3fca9a2a-44e6-4e06-8d5e-c63da43f8dda",
   "metadata": {},
   "outputs": [],
   "source": [
    "df_plot = pd.DataFrame()\n",
    "df_plot['Unrotated rotation'] = unrotated_kaiser\n",
    "df_plot['Varimax rotation'] = vari_kaiser\n",
    "df_plot['method'] = ['Mathematical', 'Sum', 'Weighted sum']\n",
    "df_plot = df_plot.set_index('method')"
   ]
  },
  {
   "cell_type": "code",
   "execution_count": null,
   "id": "7de8683e-50ee-4cbd-915b-9c68bd45fb89",
   "metadata": {},
   "outputs": [],
   "source": [
    "df_plot_melt = pd.melt(df_plot.reset_index(), id_vars=['method'], value_vars=['Unrotated rotation', 'Varimax rotation'])"
   ]
  },
  {
   "cell_type": "code",
   "execution_count": null,
   "id": "fa19c4fa-7198-4274-8dab-7ff81288ba22",
   "metadata": {},
   "outputs": [],
   "source": [
    "df_plot_melt = df_plot_melt.rename(columns={'variable': 'Method selected for rotation'})"
   ]
  },
  {
   "cell_type": "code",
   "execution_count": null,
   "id": "e5bf32de-d33c-45c2-aa99-4bc7b1fdb72e",
   "metadata": {},
   "outputs": [],
   "source": [
    "sns.set(rc={'figure.figsize':(15,15)})\n",
    "# res.anova_std_residuals are standardized residuals obtained from ANOVA (check above)\n",
    "sns.lineplot(data = df_plot_melt,x=\"method\", y=\"value\", hue = 'Method selected for rotation', linewidth = 3)\n",
    "plt.xlabel(\"Selected weighting method\", fontsize = 25, fontname='Times New Roman')\n",
    "plt.ylabel(\"Mean of social vulnerability z-score\",fontsize = 25, fontname='Times New Roman')\n",
    "plt.title('Interaction plot of weighting and rotation method used,\\n based on the Kaiser criterion', fontsize = 25, fontname=\"Times New Roman\", fontweight = 'bold')\n",
    "plt.yticks(fontsize=25, fontname=\"Times New Roman\")\n",
    "plt.xticks(fontsize=25, fontname=\"Times New Roman\")\n",
    "plt.savefig('Interaction_Kaiser.png')\n",
    "plt.show();"
   ]
  },
  {
   "cell_type": "code",
   "execution_count": null,
   "id": "ce195124-aa32-4815-8557-8298235805c7",
   "metadata": {},
   "outputs": [],
   "source": [
    "vari_variance_math = df_5['vulnerability_z_score'].mean()\n",
    "unrota_variance_math = df_3['vulnerability_z_score'].mean()\n",
    "vari_variance_sum =df_1['vulnerability_z_score'].mean()\n",
    "unrota_variance_sum = df_8['vulnerability_z_score'].mean()\n",
    "vari_variance_sumvariance = df_12['vulnerability_z_score'].mean()\n",
    "unrota_variance_sum_variance = df_10['vulnerability_z_score'].mean()"
   ]
  },
  {
   "cell_type": "code",
   "execution_count": null,
   "id": "53d60b3a-0ace-4b65-90fb-b032d7e80d92",
   "metadata": {},
   "outputs": [],
   "source": [
    "vari_variance = [vari_variance_math, vari_variance_sum, vari_variance_sumvariance]\n",
    "unrotated_variance = [unrota_variance_math, unrota_variance_sum, unrota_variance_sum_variance]"
   ]
  },
  {
   "cell_type": "code",
   "execution_count": null,
   "id": "465b3867-c59d-43c7-9f76-906049e7e4d2",
   "metadata": {},
   "outputs": [],
   "source": [
    "# df_plot = pd.DataFrame()\n",
    "df_plot['Unrotated rotation'] = unrotated_variance\n",
    "df_plot['Varimax rotation'] = vari_variance\n",
    "df_plot['method'] = ['Mathematical', 'Sum', 'Weighted sum']\n",
    "df_plot = df_plot.set_index('method')"
   ]
  },
  {
   "cell_type": "code",
   "execution_count": 115,
   "id": "27f901a2-6b5a-416e-a63a-416902af747d",
   "metadata": {},
   "outputs": [],
   "source": [
    "df_plot_melt = pd.melt(df_plot.reset_index(), id_vars=['method'], value_vars=['Unrotated rotation', 'Varimax rotation'])"
   ]
  },
  {
   "cell_type": "code",
   "execution_count": 116,
   "id": "797cd363-eb08-4d9d-8a7e-ea8d64dc7db4",
   "metadata": {},
   "outputs": [],
   "source": [
    "df_plot_melt.set_index('method')\n",
    "df_plot_melt = df_plot_melt.rename(columns={'variable': 'Method selected for rotation'})"
   ]
  },
  {
   "cell_type": "code",
   "execution_count": 119,
   "id": "7f11892d-0b5d-45aa-b7ba-06bb992eb612",
   "metadata": {},
   "outputs": [
    {
     "data": {
      "image/png": "[encoded data removed]",
      "text/plain": [
       "<Figure size 1080x1080 with 1 Axes>"
      ]
     },
     "metadata": {},
     "output_type": "display_data"
    }
   ],
   "source": [
    "sns.set(rc={'figure.figsize':(15,15)})\n",
    "sns.set_theme(style='darkgrid')\n",
    "# res.anova_std_residuals are standardized residuals obtained from ANOVA (check above)\n",
    "sns.lineplot(data = df_plot_melt,x=\"method\", y=\"value\", hue = 'Method selected for rotation', linewidth = 3)\n",
    "plt.xlabel(\"Selected weighting method\", fontsize = 25, fontname='Times New Roman')\n",
    "plt.ylabel(\"Mean of social vulnerability z-score\",fontsize = 25, fontname='Times New Roman')\n",
    "plt.title('Interaction plot of weighting and rotation method used,\\n based on the variance criterion', fontsize = 25, fontname=\"Times New Roman\", fontweight = 'bold')\n",
    "plt.yticks(fontsize=25, fontname=\"Times New Roman\")\n",
    "plt.xticks(fontsize=25, fontname=\"Times New Roman\")\n",
    "plt.savefig('Interaction_Variance.png')\n",
    "plt.show();"
   ]
  },
  {
   "cell_type": "markdown",
   "id": "38acbbf5-e276-4c4e-b66a-4c0a8ccbc219",
   "metadata": {
    "jp-MarkdownHeadingCollapsed": true,
    "tags": []
   },
   "source": [
    "## 09. Tukey"
   ]
  },
  {
   "cell_type": "code",
   "execution_count": 61,
   "id": "4d99ad82-a856-4b7f-ad47-dd2ec22f3894",
   "metadata": {},
   "outputs": [],
   "source": [
    "import statsmodels.stats.multicomp as mc\n",
    "\n",
    "interaction_groups = \"Components_\" + data.no_components.astype(str) + \" & \" + \"Weighted_\" + data.weighted.astype(str) + \"&\" + \"Rotation_\"+ data.rotation.astype(str)\n",
    "\n",
    "comp = mc.MultiComparison(data[\"vulnerability_z_score\"], interaction_groups)\n",
    "post_hoc_res = comp.tukeyhsd()\n",
    "post_hoc_res.summary()\n",
    "tukey_alle = post_hoc_res.summary()"
   ]
  },
  {
   "cell_type": "code",
   "execution_count": 63,
   "id": "f0d15c81-2819-47d2-90d0-688dbaad9adb",
   "metadata": {},
   "outputs": [
    {
     "data": {
      "text/html": [
       "<table class=\"simpletable\">\n",
       "<caption>Multiple Comparison of Means - Tukey HSD, FWER=0.05</caption>\n",
       "<tr>\n",
       "                              <th>group1</th>                                                         <th>group2</th>                             <th>meandiff</th>  <th>p-adj</th>  <th>lower</th>   <th>upper</th>  <th>reject</th>\n",
       "</tr>\n",
       "<tr>\n",
       "    <td>Components_kaiser & Weighted_mathematic&Rotation_unrotated</td>      <td>Components_kaiser & Weighted_mathematic&Rotation_varimax</td>     <td>-0.0017</td>   <td>0.9</td>  <td>-0.1134</td>  <td>0.11</td>    <td>False</td>\n",
       "</tr>\n",
       "<tr>\n",
       "    <td>Components_kaiser & Weighted_mathematic&Rotation_unrotated</td>    <td>Components_kaiser & Weighted_sum weighted&Rotation_unrotated</td>   <td>0.2939</td>   <td>0.001</td> <td>0.2027</td>  <td>0.3851</td>   <td>True</td> \n",
       "</tr>\n",
       "<tr>\n",
       "    <td>Components_kaiser & Weighted_mathematic&Rotation_unrotated</td>         <td>Components_kaiser & Weighted_sum&Rotation_unrotated</td>       <td>0.1016</td>  <td>0.1027</td> <td>-0.0089</td>  <td>0.212</td>   <td>False</td>\n",
       "</tr>\n",
       "<tr>\n",
       "    <td>Components_kaiser & Weighted_mathematic&Rotation_unrotated</td>          <td>Components_kaiser & Weighted_sum&Rotation_varimax</td>        <td>0.1016</td>  <td>0.1027</td> <td>-0.0089</td>  <td>0.212</td>   <td>False</td>\n",
       "</tr>\n",
       "<tr>\n",
       "    <td>Components_kaiser & Weighted_mathematic&Rotation_unrotated</td>     <td>Components_variance & Weighted_mathematic&Rotation_varimax</td>    <td>-0.0017</td>   <td>0.9</td>  <td>-0.1134</td>  <td>0.11</td>    <td>False</td>\n",
       "</tr>\n",
       "<tr>\n",
       "    <td>Components_kaiser & Weighted_mathematic&Rotation_unrotated</td>   <td>Components_variance & Weighted_sum weighted&Rotation_unrotated</td>  <td>0.0202</td>    <td>0.9</td>  <td>-0.0916</td>  <td>0.132</td>   <td>False</td>\n",
       "</tr>\n",
       "<tr>\n",
       "    <td>Components_kaiser & Weighted_mathematic&Rotation_unrotated</td>    <td>Components_variance & Weighted_sum weighted&Rotation_varimax</td>   <td>0.1635</td>   <td>0.001</td> <td>0.0528</td>  <td>0.2741</td>   <td>True</td> \n",
       "</tr>\n",
       "<tr>\n",
       "    <td>Components_kaiser & Weighted_mathematic&Rotation_unrotated</td>        <td>Components_variance & Weighted_sum&Rotation_unrotated</td>      <td>0.0317</td>    <td>0.9</td>  <td>-0.0802</td> <td>0.1436</td>   <td>False</td>\n",
       "</tr>\n",
       "<tr>\n",
       "    <td>Components_kaiser & Weighted_mathematic&Rotation_unrotated</td>         <td>Components_variance & Weighted_sum&Rotation_varimax</td>       <td>0.2822</td>   <td>0.001</td> <td>0.1717</td>  <td>0.3926</td>   <td>True</td> \n",
       "</tr>\n",
       "<tr>\n",
       "     <td>Components_kaiser & Weighted_mathematic&Rotation_varimax</td>     <td>Components_kaiser & Weighted_sum weighted&Rotation_unrotated</td>   <td>0.2956</td>   <td>0.001</td> <td>0.1842</td>  <td>0.4071</td>   <td>True</td> \n",
       "</tr>\n",
       "<tr>\n",
       "     <td>Components_kaiser & Weighted_mathematic&Rotation_varimax</td>          <td>Components_kaiser & Weighted_sum&Rotation_unrotated</td>       <td>0.1033</td>  <td>0.2371</td> <td>-0.0244</td>  <td>0.231</td>   <td>False</td>\n",
       "</tr>\n",
       "<tr>\n",
       "     <td>Components_kaiser & Weighted_mathematic&Rotation_varimax</td>           <td>Components_kaiser & Weighted_sum&Rotation_varimax</td>        <td>0.1033</td>  <td>0.2371</td> <td>-0.0244</td>  <td>0.231</td>   <td>False</td>\n",
       "</tr>\n",
       "<tr>\n",
       "     <td>Components_kaiser & Weighted_mathematic&Rotation_varimax</td>      <td>Components_variance & Weighted_mathematic&Rotation_varimax</td>      <td>0.0</td>     <td>0.9</td>  <td>-0.1288</td> <td>0.1288</td>   <td>False</td>\n",
       "</tr>\n",
       "<tr>\n",
       "     <td>Components_kaiser & Weighted_mathematic&Rotation_varimax</td>    <td>Components_variance & Weighted_sum weighted&Rotation_unrotated</td>  <td>0.0219</td>    <td>0.9</td>  <td>-0.107</td>  <td>0.1507</td>   <td>False</td>\n",
       "</tr>\n",
       "<tr>\n",
       "     <td>Components_kaiser & Weighted_mathematic&Rotation_varimax</td>     <td>Components_variance & Weighted_sum weighted&Rotation_varimax</td>   <td>0.1652</td>  <td>0.0018</td> <td>0.0373</td>  <td>0.2931</td>   <td>True</td> \n",
       "</tr>\n",
       "<tr>\n",
       "     <td>Components_kaiser & Weighted_mathematic&Rotation_varimax</td>         <td>Components_variance & Weighted_sum&Rotation_unrotated</td>      <td>0.0334</td>    <td>0.9</td>  <td>-0.0956</td> <td>0.1624</td>   <td>False</td>\n",
       "</tr>\n",
       "<tr>\n",
       "     <td>Components_kaiser & Weighted_mathematic&Rotation_varimax</td>          <td>Components_variance & Weighted_sum&Rotation_varimax</td>       <td>0.2839</td>   <td>0.001</td> <td>0.1562</td>  <td>0.4115</td>   <td>True</td> \n",
       "</tr>\n",
       "<tr>\n",
       "   <td>Components_kaiser & Weighted_sum weighted&Rotation_unrotated</td>        <td>Components_kaiser & Weighted_sum&Rotation_unrotated</td>       <td>-0.1924</td>  <td>0.001</td> <td>-0.3026</td> <td>-0.0821</td>  <td>True</td> \n",
       "</tr>\n",
       "<tr>\n",
       "   <td>Components_kaiser & Weighted_sum weighted&Rotation_unrotated</td>         <td>Components_kaiser & Weighted_sum&Rotation_varimax</td>        <td>-0.1924</td>  <td>0.001</td> <td>-0.3026</td> <td>-0.0821</td>  <td>True</td> \n",
       "</tr>\n",
       "<tr>\n",
       "   <td>Components_kaiser & Weighted_sum weighted&Rotation_unrotated</td>    <td>Components_variance & Weighted_mathematic&Rotation_varimax</td>    <td>-0.2956</td>  <td>0.001</td> <td>-0.4071</td> <td>-0.1842</td>  <td>True</td> \n",
       "</tr>\n",
       "<tr>\n",
       "   <td>Components_kaiser & Weighted_sum weighted&Rotation_unrotated</td>  <td>Components_variance & Weighted_sum weighted&Rotation_unrotated</td>  <td>-0.2737</td>  <td>0.001</td> <td>-0.3853</td> <td>-0.1622</td>  <td>True</td> \n",
       "</tr>\n",
       "<tr>\n",
       "   <td>Components_kaiser & Weighted_sum weighted&Rotation_unrotated</td>   <td>Components_variance & Weighted_sum weighted&Rotation_varimax</td>   <td>-0.1305</td> <td>0.0072</td> <td>-0.2409</td>  <td>-0.02</td>   <td>True</td> \n",
       "</tr>\n",
       "<tr>\n",
       "   <td>Components_kaiser & Weighted_sum weighted&Rotation_unrotated</td>       <td>Components_variance & Weighted_sum&Rotation_unrotated</td>      <td>-0.2622</td>  <td>0.001</td> <td>-0.3739</td> <td>-0.1505</td>  <td>True</td> \n",
       "</tr>\n",
       "<tr>\n",
       "   <td>Components_kaiser & Weighted_sum weighted&Rotation_unrotated</td>        <td>Components_variance & Weighted_sum&Rotation_varimax</td>       <td>-0.0118</td>   <td>0.9</td>  <td>-0.122</td>  <td>0.0984</td>   <td>False</td>\n",
       "</tr>\n",
       "<tr>\n",
       "        <td>Components_kaiser & Weighted_sum&Rotation_unrotated</td>             <td>Components_kaiser & Weighted_sum&Rotation_varimax</td>          <td>0.0</td>     <td>0.9</td>  <td>-0.1266</td> <td>0.1266</td>   <td>False</td>\n",
       "</tr>\n",
       "<tr>\n",
       "        <td>Components_kaiser & Weighted_sum&Rotation_unrotated</td>        <td>Components_variance & Weighted_mathematic&Rotation_varimax</td>    <td>-0.1033</td> <td>0.2371</td> <td>-0.231</td>  <td>0.0244</td>   <td>False</td>\n",
       "</tr>\n",
       "<tr>\n",
       "        <td>Components_kaiser & Weighted_sum&Rotation_unrotated</td>      <td>Components_variance & Weighted_sum weighted&Rotation_unrotated</td>  <td>-0.0814</td> <td>0.5749</td> <td>-0.2092</td> <td>0.0464</td>   <td>False</td>\n",
       "</tr>\n",
       "<tr>\n",
       "        <td>Components_kaiser & Weighted_sum&Rotation_unrotated</td>       <td>Components_variance & Weighted_sum weighted&Rotation_varimax</td>   <td>0.0619</td>  <td>0.8642</td> <td>-0.0649</td> <td>0.1887</td>   <td>False</td>\n",
       "</tr>\n",
       "<tr>\n",
       "        <td>Components_kaiser & Weighted_sum&Rotation_unrotated</td>           <td>Components_variance & Weighted_sum&Rotation_unrotated</td>      <td>-0.0699</td> <td>0.7511</td> <td>-0.1978</td>  <td>0.058</td>   <td>False</td>\n",
       "</tr>\n",
       "<tr>\n",
       "        <td>Components_kaiser & Weighted_sum&Rotation_unrotated</td>            <td>Components_variance & Weighted_sum&Rotation_varimax</td>       <td>0.1806</td>   <td>0.001</td>  <td>0.054</td>  <td>0.3072</td>   <td>True</td> \n",
       "</tr>\n",
       "<tr>\n",
       "         <td>Components_kaiser & Weighted_sum&Rotation_varimax</td>         <td>Components_variance & Weighted_mathematic&Rotation_varimax</td>    <td>-0.1033</td> <td>0.2371</td> <td>-0.231</td>  <td>0.0244</td>   <td>False</td>\n",
       "</tr>\n",
       "<tr>\n",
       "         <td>Components_kaiser & Weighted_sum&Rotation_varimax</td>       <td>Components_variance & Weighted_sum weighted&Rotation_unrotated</td>  <td>-0.0814</td> <td>0.5749</td> <td>-0.2092</td> <td>0.0464</td>   <td>False</td>\n",
       "</tr>\n",
       "<tr>\n",
       "         <td>Components_kaiser & Weighted_sum&Rotation_varimax</td>        <td>Components_variance & Weighted_sum weighted&Rotation_varimax</td>   <td>0.0619</td>  <td>0.8642</td> <td>-0.0649</td> <td>0.1887</td>   <td>False</td>\n",
       "</tr>\n",
       "<tr>\n",
       "         <td>Components_kaiser & Weighted_sum&Rotation_varimax</td>            <td>Components_variance & Weighted_sum&Rotation_unrotated</td>      <td>-0.0699</td> <td>0.7511</td> <td>-0.1978</td>  <td>0.058</td>   <td>False</td>\n",
       "</tr>\n",
       "<tr>\n",
       "         <td>Components_kaiser & Weighted_sum&Rotation_varimax</td>             <td>Components_variance & Weighted_sum&Rotation_varimax</td>       <td>0.1806</td>   <td>0.001</td>  <td>0.054</td>  <td>0.3072</td>   <td>True</td> \n",
       "</tr>\n",
       "<tr>\n",
       "    <td>Components_variance & Weighted_mathematic&Rotation_varimax</td>   <td>Components_variance & Weighted_sum weighted&Rotation_unrotated</td>  <td>0.0219</td>    <td>0.9</td>  <td>-0.107</td>  <td>0.1507</td>   <td>False</td>\n",
       "</tr>\n",
       "<tr>\n",
       "    <td>Components_variance & Weighted_mathematic&Rotation_varimax</td>    <td>Components_variance & Weighted_sum weighted&Rotation_varimax</td>   <td>0.1652</td>  <td>0.0018</td> <td>0.0373</td>  <td>0.2931</td>   <td>True</td> \n",
       "</tr>\n",
       "<tr>\n",
       "    <td>Components_variance & Weighted_mathematic&Rotation_varimax</td>        <td>Components_variance & Weighted_sum&Rotation_unrotated</td>      <td>0.0334</td>    <td>0.9</td>  <td>-0.0956</td> <td>0.1624</td>   <td>False</td>\n",
       "</tr>\n",
       "<tr>\n",
       "    <td>Components_variance & Weighted_mathematic&Rotation_varimax</td>         <td>Components_variance & Weighted_sum&Rotation_varimax</td>       <td>0.2839</td>   <td>0.001</td> <td>0.1562</td>  <td>0.4115</td>   <td>True</td> \n",
       "</tr>\n",
       "<tr>\n",
       "  <td>Components_variance & Weighted_sum weighted&Rotation_unrotated</td>  <td>Components_variance & Weighted_sum weighted&Rotation_varimax</td>   <td>0.1433</td>  <td>0.0145</td> <td>0.0153</td>  <td>0.2713</td>   <td>True</td> \n",
       "</tr>\n",
       "<tr>\n",
       "  <td>Components_variance & Weighted_sum weighted&Rotation_unrotated</td>      <td>Components_variance & Weighted_sum&Rotation_unrotated</td>      <td>0.0115</td>    <td>0.9</td>  <td>-0.1175</td> <td>0.1406</td>   <td>False</td>\n",
       "</tr>\n",
       "<tr>\n",
       "  <td>Components_variance & Weighted_sum weighted&Rotation_unrotated</td>       <td>Components_variance & Weighted_sum&Rotation_varimax</td>        <td>0.262</td>   <td>0.001</td> <td>0.1342</td>  <td>0.3898</td>   <td>True</td> \n",
       "</tr>\n",
       "<tr>\n",
       "   <td>Components_variance & Weighted_sum weighted&Rotation_varimax</td>       <td>Components_variance & Weighted_sum&Rotation_unrotated</td>      <td>-0.1318</td> <td>0.0378</td> <td>-0.2598</td> <td>-0.0037</td>  <td>True</td> \n",
       "</tr>\n",
       "<tr>\n",
       "   <td>Components_variance & Weighted_sum weighted&Rotation_varimax</td>        <td>Components_variance & Weighted_sum&Rotation_varimax</td>       <td>0.1187</td>   <td>0.089</td> <td>-0.0081</td> <td>0.2455</td>   <td>False</td>\n",
       "</tr>\n",
       "<tr>\n",
       "       <td>Components_variance & Weighted_sum&Rotation_unrotated</td>           <td>Components_variance & Weighted_sum&Rotation_varimax</td>       <td>0.2505</td>   <td>0.001</td> <td>0.1226</td>  <td>0.3783</td>   <td>True</td> \n",
       "</tr>\n",
       "</table>"
      ],
      "text/plain": [
       "<class 'statsmodels.iolib.table.SimpleTable'>"
      ]
     },
     "execution_count": 63,
     "metadata": {},
     "output_type": "execute_result"
    }
   ],
   "source": [
    "post_hoc_res.summary()"
   ]
  },
  {
   "cell_type": "markdown",
   "id": "aec50167-0d1b-42dc-a0d2-c3506a7ce8b6",
   "metadata": {
    "jp-MarkdownHeadingCollapsed": true,
    "tags": []
   },
   "source": [
    "## 10. Variance in Ranking"
   ]
  },
  {
   "cell_type": "code",
   "execution_count": 182,
   "id": "25974c31-5a07-4e86-850b-b72c9536e805",
   "metadata": {
    "tags": []
   },
   "outputs": [],
   "source": [
    "df_1 = df_1.sort_values(by =['vulnerability_z_score'], ascending= False)\n",
    "df_1['ranking_1'] =  np.arange(len(df_1))+1\n",
    "df_2 = df_2.sort_values(by =['vulnerability_z_score'], ascending= False)\n",
    "df_2['ranking_2'] =  np.arange(len(df_2))+1\n",
    "df_3 = df_3.sort_values(by =['vulnerability_z_score'], ascending= False)\n",
    "df_3['ranking_3'] =  np.arange(len(df_3))+1\n",
    "df_4 = df_4.sort_values(by =['vulnerability_z_score'], ascending= False)\n",
    "df_4['ranking_4'] =  np.arange(len(df_4))+1\n",
    "df_5 = df_5.sort_values(by =['vulnerability_z_score'], ascending= False)\n",
    "df_5['ranking_5'] =  np.arange(len(df_5))+1\n",
    "df_6 = df_6.sort_values(by =['vulnerability_z_score'], ascending= False)\n",
    "df_6['ranking_6'] =  np.arange(len(df_6))+1\n",
    "df_7 = df_7.sort_values(by =['vulnerability_z_score'], ascending= False)\n",
    "df_7['ranking_7'] =  np.arange(len(df_7))+1\n",
    "df_8 = df_8.sort_values(by =['vulnerability_z_score'], ascending= False)\n",
    "df_8['ranking_8'] =  np.arange(len(df_8))+1\n",
    "df_9 = df_9.sort_values(by =['vulnerability_z_score'], ascending= False)\n",
    "df_9['ranking_9'] =  np.arange(len(df_9))+1\n",
    "df_10= df_10.sort_values(by =['vulnerability_z_score'], ascending= False)\n",
    "df_10['ranking_10'] =  np.arange(len(df_10))+1\n",
    "df_11 = df_11.sort_values(by =['vulnerability_z_score'], ascending= False)\n",
    "df_11['ranking_11'] =  np.arange(len(df_10))+1\n",
    "df_12 = df_12.sort_values(by =['vulnerability_z_score'], ascending= False)\n",
    "df_12['ranking_12'] =  np.arange(len(df_10))+1"
   ]
  },
  {
   "cell_type": "code",
   "execution_count": 183,
   "id": "971bb070-f773-42ea-a441-042385c84695",
   "metadata": {},
   "outputs": [],
   "source": [
    "df_1 = df_1.sort_values(by=['Adm3'], ascending = True)\n",
    "df_2 = df_2.sort_values(by=['Adm3'], ascending = True)\n",
    "df_3 = df_3.sort_values(by=['Adm3'], ascending = True)\n",
    "df_4 = df_4.sort_values(by=['Adm3'], ascending = True)\n",
    "df_5 = df_5.sort_values(by=['Adm3'], ascending = True)\n",
    "df_6 = df_6.sort_values(by=['Adm3'], ascending = True)\n",
    "df_7 = df_7.sort_values(by=['Adm3'], ascending = True)\n",
    "df_8 = df_8.sort_values(by=['Adm3'], ascending = True)\n",
    "df_9 = df_9.sort_values(by=['Adm3'], ascending = True)\n",
    "df_10 = df_10.sort_values(by=['Adm3'], ascending = True)\n",
    "df_11 = df_11.sort_values(by=['Adm3'], ascending = True)\n",
    "df_12 = df_12.sort_values(by=['Adm3'], ascending = True)"
   ]
  },
  {
   "cell_type": "code",
   "execution_count": 197,
   "id": "261dcdb0-8e12-4119-8a5c-927fc78c4d3b",
   "metadata": {},
   "outputs": [],
   "source": [
    "df_ranking = df_1\n",
    "df_ranking['ranking_2'] = list(df_2['ranking_2'])\n",
    "df_ranking['ranking_3'] = list(df_3['ranking_3'])\n",
    "df_ranking['ranking_4'] = list(df_4['ranking_4'])\n",
    "df_ranking['ranking_5'] = list(df_5['ranking_5'])\n",
    "df_ranking['ranking_6'] = list(df_6['ranking_6'])\n",
    "df_ranking['ranking_7'] = list(df_7['ranking_7'])\n",
    "df_ranking['ranking_8'] = list(df_8['ranking_8'])\n",
    "df_ranking['ranking_9'] = list(df_9['ranking_9'])\n",
    "df_ranking['ranking_10'] = list(df_10['ranking_10'])\n",
    "df_ranking['ranking_11'] = list(df_12['ranking_11'])\n",
    "df_ranking['ranking_12'] = list(df_12['ranking_12'])"
   ]
  },
  {
   "cell_type": "code",
   "execution_count": 199,
   "id": "42f1d5e6-62bc-42e2-9ed9-b703a71d9bea",
   "metadata": {},
   "outputs": [],
   "source": [
    "df_ranking = df_ranking.drop(['vulnerability_z_score', 'Combi2', 'Combi3', 'Combi4', 'Combi5',\n",
    "       'Combi6', 'Combi7', 'Combi8', 'Combi9', 'Combi10', 'Combi11', 'Combi12'], axis = 1)"
   ]
  },
  {
   "cell_type": "code",
   "execution_count": 200,
   "id": "d8c24952-406a-46af-8180-0eca91e382bd",
   "metadata": {},
   "outputs": [],
   "source": [
    "#df_ranking['mean'] = df_ranking.mean(axis=1)\n",
    "#df_ranking['variance'] = df_ranking.var(axis=1)\n",
    "df_ranking['std'] = df_ranking.std(axis=1)"
   ]
  },
  {
   "cell_type": "code",
   "execution_count": 203,
   "id": "ae6c0ab2-8b90-4cd6-adc9-79db97e31575",
   "metadata": {},
   "outputs": [
    {
     "data": {
      "image/png": "[encoded data removed]",
      "text/plain": [
       "<Figure size 1080x1080 with 1 Axes>"
      ]
     },
     "metadata": {},
     "output_type": "display_data"
    }
   ],
   "source": [
    "df_ranking['std'].hist()\n",
    "plt.xlabel(\"Standard deviation of the social vulnerability ranking\", fontsize = 25, fontname='Times New Roman')\n",
    "plt.ylabel(\"Number of communities\",fontsize = 25, fontname='Times New Roman')\n",
    "plt.title('Standard deviation of ranking social vulnerability of community', fontsize = 25, fontname=\"Times New Roman\", fontweight = 'bold')\n",
    "plt.yticks(fontsize=25, fontname=\"Times New Roman\")\n",
    "plt.xticks(fontsize=25, fontname=\"Times New Roman\")\n",
    "plt.savefig('Afwijking_ranking.png')\n",
    "plt.show();"
   ]
  }
 ],
 "metadata": {
  "kernelspec": {
   "display_name": "Python 3 (ipykernel)",
   "language": "python",
   "name": "python3"
  },
  "language_info": {
   "codemirror_mode": {
    "name": "ipython",
    "version": 3
   },
   "file_extension": ".py",
   "mimetype": "text/x-python",
   "name": "python",
   "nbconvert_exporter": "python",
   "pygments_lexer": "ipython3",
   "version": "3.9.7"
  }
 },
 "nbformat": 4,
 "nbformat_minor": 5
}
